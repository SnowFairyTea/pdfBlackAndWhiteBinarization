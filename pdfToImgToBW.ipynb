{
  "nbformat": 4,
  "nbformat_minor": 0,
  "metadata": {
    "colab": {
      "name": "pdfToImgToBW.ipynb",
      "provenance": [],
      "collapsed_sections": [],
      "authorship_tag": "ABX9TyOSDNuNaY+DwfM3uBmOhq9z",
      "include_colab_link": true
    },
    "kernelspec": {
      "name": "python3",
      "display_name": "Python 3"
    },
    "language_info": {
      "name": "python"
    }
  },
  "cells": [
    {
      "cell_type": "markdown",
      "metadata": {
        "id": "view-in-github",
        "colab_type": "text"
      },
      "source": [
        "<a href=\"https://colab.research.google.com/github/SnowFairyTea/pdfBlackAndWhiteBinarization/blob/main/pdfToImgToBW.ipynb\" target=\"_parent\"><img src=\"https://colab.research.google.com/assets/colab-badge.svg\" alt=\"Open In Colab\"/></a>"
      ]
    },
    {
      "cell_type": "code",
      "metadata": {
        "colab": {
          "base_uri": "https://localhost:8080/"
        },
        "id": "X07nqMIGbzpV",
        "outputId": "c0a220f8-5c73-4934-b722-85ba1310473d"
      },
      "source": [
        "#  事前準備\n",
        "! pwd\n",
        "! mkdir pdf_file \n",
        "#左のファイルアイコンから/content/pdf_file/内に変換したいPDFファイルを入れる\n",
        "thresh = 170"
      ],
      "execution_count": 87,
      "outputs": [
        {
          "output_type": "stream",
          "name": "stdout",
          "text": [
            "/content\n",
            "mkdir: cannot create directory ‘pdf_file’: File exists\n"
          ]
        }
      ]
    },
    {
      "cell_type": "code",
      "metadata": {
        "colab": {
          "base_uri": "https://localhost:8080/"
        },
        "id": "TSJ0kSTTbhHH",
        "outputId": "11792a40-f002-4215-f42d-7dea4a73c9e6"
      },
      "source": [
        "! pip install pdf2image\n",
        "! pip install img2pdf\n",
        "!apt-get install poppler-utils\n",
        "\n",
        "from pdf2image import convert_from_path\n",
        "import img2pdf\n",
        "import glob\n",
        "import os\n",
        "import cv2"
      ],
      "execution_count": 88,
      "outputs": [
        {
          "output_type": "stream",
          "name": "stdout",
          "text": [
            "Requirement already satisfied: pdf2image in /usr/local/lib/python3.7/dist-packages (1.16.0)\n",
            "Requirement already satisfied: pillow in /usr/local/lib/python3.7/dist-packages (from pdf2image) (7.1.2)\n",
            "Requirement already satisfied: img2pdf in /usr/local/lib/python3.7/dist-packages (0.4.1)\n",
            "Requirement already satisfied: Pillow in /usr/local/lib/python3.7/dist-packages (from img2pdf) (7.1.2)\n",
            "Requirement already satisfied: pikepdf in /usr/local/lib/python3.7/dist-packages (from img2pdf) (2.16.1)\n",
            "Requirement already satisfied: lxml>=4.0 in /usr/local/lib/python3.7/dist-packages (from pikepdf->img2pdf) (4.2.6)\n",
            "Reading package lists... Done\n",
            "Building dependency tree       \n",
            "Reading state information... Done\n",
            "poppler-utils is already the newest version (0.62.0-2ubuntu2.12).\n",
            "0 upgraded, 0 newly installed, 0 to remove and 40 not upgraded.\n"
          ]
        }
      ]
    },
    {
      "cell_type": "code",
      "metadata": {
        "colab": {
          "base_uri": "https://localhost:8080/"
        },
        "id": "pNvM7keZdfee",
        "outputId": "3e862967-877d-4da1-b060-2aaa09bcd94b"
      },
      "source": [
        "! mkdir img_dir\n",
        "! mkdir result_dir"
      ],
      "execution_count": 89,
      "outputs": [
        {
          "output_type": "stream",
          "name": "stdout",
          "text": [
            "mkdir: cannot create directory ‘img_dir’: File exists\n",
            "mkdir: cannot create directory ‘result_dir’: File exists\n"
          ]
        }
      ]
    },
    {
      "cell_type": "code",
      "metadata": {
        "id": "R43OoNS6d7WF"
      },
      "source": [
        "def f(pdf_name):\n",
        "  # 各フォルダの作成\n",
        "  try:\n",
        "    os.mkdir(\"/content/img_dir/\"+pdf_name)\n",
        "  except:\n",
        "    ;\n",
        "  # 各フォルダのパス\n",
        "  pdf_path = \"/content/pdf_file/\"+pdf_name\n",
        "  img_dir = \"/content/img_dir/\"+pdf_name+\"/\"\n",
        "  result_path = \"/content/result_dir/\"+pdf_name\n",
        "\n",
        "  # PDFをImage に変換（150dpi）\n",
        "  pages = convert_from_path(str(pdf_path), 150)\n",
        "\n",
        "  # 画像ファイルを１ページずつ保存\n",
        "\n",
        "  for i, page in enumerate(pages):\n",
        "    file_name = img_dir + \"{:02d}\".format(i + 1) + \".jpeg\"\n",
        "    img_path = file_name\n",
        "    # JPEGで保存\n",
        "    page.save(str(img_path), \"JPEG\")\n",
        "    # グレースケール化\n",
        "    #img_bgr = cv2.imread(str(img_path))\n",
        "    #img_gray = cv2.cvtColor(img_bgr, cv2.COLOR_BGR2GRAY)\n",
        "    #cv2.imwrite(str(img_path), img_gray)\n",
        "    # 白黒二値化\n",
        "    src=cv2.imread(str(img_path), 0)\n",
        "    ret, dst = cv2.threshold(src, thresh, 255, cv2.THRESH_BINARY)\n",
        "    cv2.imwrite(str(img_path), dst)\n",
        "  #pdfに変換\n",
        "  extension  = \".jpeg\"\n",
        "  img_list=glob.glob(img_dir+\"*\")\n",
        "  print(img_list)\n",
        "  with open(result_path,\"wb\") as f:\n",
        "    f.write(img2pdf.convert(sorted(img_list),title=pdf_name, viewer_page_layout=img2pdf.parse_layout('onecolumn')))"
      ],
      "execution_count": 92,
      "outputs": []
    },
    {
      "cell_type": "code",
      "metadata": {
        "colab": {
          "base_uri": "https://localhost:8080/"
        },
        "id": "mGZ6o5LteoOl",
        "outputId": "e05201eb-ef31-4c4c-fe93-31b29024ee2b"
      },
      "source": [
        "for pdf_path in glob.glob(\"/content/pdf_file/*\"):\n",
        "  pdf_name = pdf_path.split(\"/\")[-1]\n",
        "  print(pdf_path)\n",
        "  print(pdf_name)\n",
        "  f(str(pdf_name));"
      ],
      "execution_count": 93,
      "outputs": [
        {
          "output_type": "stream",
          "name": "stdout",
          "text": [
            "/content/pdf_file/補足資料3.pdf\n",
            "補足資料3.pdf\n",
            "['/content/img_dir/補足資料3.pdf/01.jpeg', '/content/img_dir/補足資料3.pdf/03.jpeg', '/content/img_dir/補足資料3.pdf/08.jpeg', '/content/img_dir/補足資料3.pdf/04.jpeg', '/content/img_dir/補足資料3.pdf/06.jpeg', '/content/img_dir/補足資料3.pdf/02.jpeg', '/content/img_dir/補足資料3.pdf/05.jpeg', '/content/img_dir/補足資料3.pdf/07.jpeg']\n"
          ]
        }
      ]
    },
    {
      "cell_type": "code",
      "metadata": {
        "id": "NFgkRO7Jl2HV"
      },
      "source": [
        ""
      ],
      "execution_count": 95,
      "outputs": []
    },
    {
      "cell_type": "code",
      "metadata": {
        "id": "M-BE0AO0rYb_"
      },
      "source": [
        ""
      ],
      "execution_count": null,
      "outputs": []
    }
  ]
}