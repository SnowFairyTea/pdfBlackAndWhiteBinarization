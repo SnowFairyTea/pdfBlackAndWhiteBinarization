{
  "nbformat": 4,
  "nbformat_minor": 0,
  "metadata": {
    "colab": {
      "name": "pdfToImgToBW.ipynb",
      "provenance": [],
      "collapsed_sections": [],
      "authorship_tag": "ABX9TyOJBJJU7l5q7NrJvsZb4JpP",
      "include_colab_link": true
    },
    "kernelspec": {
      "name": "python3",
      "display_name": "Python 3"
    },
    "language_info": {
      "name": "python"
    }
  },
  "cells": [
    {
      "cell_type": "markdown",
      "metadata": {
        "id": "view-in-github",
        "colab_type": "text"
      },
      "source": [
        "<a href=\"https://colab.research.google.com/github/SnowFairyTea/pdfBlackAndWhiteBinarization/blob/main/pdfToImgToBW.ipynb\" target=\"_parent\"><img src=\"https://colab.research.google.com/assets/colab-badge.svg\" alt=\"Open In Colab\"/></a>"
      ]
    },
    {
      "cell_type": "markdown",
      "metadata": {
        "id": "t1a7gLIvxAY_"
      },
      "source": [
        "# PDFの白黒二値変換\n",
        "1. 1つ目のセルを実行し、左のファイルアイコンをクリックしファイルを開く。\n",
        "1. pdf_file/以下に変換したいPDFファイルをアップロードする。  \n",
        "1. すべてのセルを実行する。。\n",
        "1. result_dir/以下に変換後のPDFファイルがあるのでダウンロードする。\n",
        "1. 補足：二値化のしきい値は１つ目のセルにあるthreshの値をいじることで変更できます（0~255）"
      ]
    },
    {
      "cell_type": "code",
      "metadata": {
        "id": "X07nqMIGbzpV"
      },
      "source": [
        "#  事前準備\n",
        "! pwd\n",
        "! mkdir pdf_file \n",
        "#左のファイルアイコンから/content/pdf_file/内に変換したいPDFファイルを入れる\n",
        "thresh = 170"
      ],
      "execution_count": null,
      "outputs": []
    },
    {
      "cell_type": "code",
      "metadata": {
        "id": "TSJ0kSTTbhHH"
      },
      "source": [
        "! pip install pdf2image\n",
        "! pip install img2pdf\n",
        "!apt-get install poppler-utils\n",
        "\n",
        "from pdf2image import convert_from_path\n",
        "import img2pdf\n",
        "import glob\n",
        "import os\n",
        "import cv2"
      ],
      "execution_count": null,
      "outputs": []
    },
    {
      "cell_type": "code",
      "metadata": {
        "id": "pNvM7keZdfee"
      },
      "source": [
        "! mkdir img_dir\n",
        "! mkdir result_dir"
      ],
      "execution_count": null,
      "outputs": []
    },
    {
      "cell_type": "code",
      "metadata": {
        "id": "R43OoNS6d7WF"
      },
      "source": [
        "def f(pdf_name):\n",
        "  # 各フォルダの作成\n",
        "  try:\n",
        "    os.mkdir(\"/content/img_dir/\"+pdf_name)\n",
        "  except:\n",
        "    ;\n",
        "  # 各フォルダのパス\n",
        "  pdf_path = \"/content/pdf_file/\"+pdf_name\n",
        "  img_dir = \"/content/img_dir/\"+pdf_name+\"/\"\n",
        "  result_path = \"/content/result_dir/\"+pdf_name\n",
        "\n",
        "  # PDFをImage に変換（150dpi）\n",
        "  pages = convert_from_path(str(pdf_path), 150)\n",
        "\n",
        "  # 画像ファイルを１ページずつ保存\n",
        "\n",
        "  for i, page in enumerate(pages):\n",
        "    file_name = img_dir + \"{:02d}\".format(i + 1) + \".jpeg\"\n",
        "    img_path = file_name\n",
        "    # JPEGで保存\n",
        "    page.save(str(img_path), \"JPEG\")\n",
        "    # グレースケール化\n",
        "    #img_bgr = cv2.imread(str(img_path))\n",
        "    #img_gray = cv2.cvtColor(img_bgr, cv2.COLOR_BGR2GRAY)\n",
        "    #cv2.imwrite(str(img_path), img_gray)\n",
        "    # 白黒二値化\n",
        "    src=cv2.imread(str(img_path), 0)\n",
        "    ret, dst = cv2.threshold(src, thresh, 255, cv2.THRESH_BINARY)\n",
        "    cv2.imwrite(str(img_path), dst)\n",
        "  #pdfに変換\n",
        "  extension  = \".jpeg\"\n",
        "  img_list=glob.glob(img_dir+\"*\")\n",
        "  print(img_list)\n",
        "  with open(result_path,\"wb\") as f:\n",
        "    f.write(img2pdf.convert(sorted(img_list),title=pdf_name, viewer_page_layout=img2pdf.parse_layout('onecolumn')))"
      ],
      "execution_count": null,
      "outputs": []
    },
    {
      "cell_type": "code",
      "metadata": {
        "id": "mGZ6o5LteoOl"
      },
      "source": [
        "for pdf_path in glob.glob(\"/content/pdf_file/*\"):\n",
        "  pdf_name = pdf_path.split(\"/\")[-1]\n",
        "  print(pdf_path)\n",
        "  print(pdf_name)\n",
        "  f(str(pdf_name));"
      ],
      "execution_count": null,
      "outputs": []
    }
  ]
}